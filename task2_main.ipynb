{
 "cells": [
  {
   "cell_type": "markdown",
   "metadata": {},
   "source": [
    "# Task 2"
   ]
  },
  {
   "cell_type": "markdown",
   "metadata": {},
   "source": [
    "The main script consist of two parts:\n",
    "* Table creater script: it creates the tables needed to make the final query (preprocessing).\n",
    "* Query: it performs the query to obtain the comparation between the most popular tags in 2016 and 2009."
   ]
  },
  {
   "cell_type": "markdown",
   "metadata": {},
   "source": [
    "## Table creater"
   ]
  },
  {
   "cell_type": "code",
   "execution_count": 102,
   "metadata": {},
   "outputs": [
    {
     "name": "stdout",
     "output_type": "stream",
     "text": [
      "Overwriting query1.hql\n"
     ]
    }
   ],
   "source": [
    "%%writefile table-creater.hql\n",
    "\n",
    "USE joyvan;\n",
    "DROP TABLE IF EXISTS joyvan.tmp1; \n",
    "DROP TABLE IF EXISTS joyvan.data_2009; \n",
    "DROP TABLE IF EXISTS joyvan.data_2016; \n",
    "CREATE TEMPORARY TABLE joyvan.tmp1 as SELECT one_tag, count(*) as popu, year from stackoverflow_.Posts lateral view explode(tags) tagsTable as one_tag where post_type_id = 1 group by one_tag, year;\n",
    "CREATE TABLE joyvan.data_2009 as SELECT one_tag, popu, year, rank() over(ORDER BY popu DESC) as rank from tmp1 WHERE year = 2009;\n",
    "CREATE TABLE joyvan.data_2016 as SELECT one_tag, popu, year, rank() over(ORDER BY popu DESC) as rank from tmp1 WHERE year = 2016;"
   ]
  },
  {
   "cell_type": "code",
   "execution_count": 103,
   "metadata": {},
   "outputs": [
    {
     "name": "stdout",
     "output_type": "stream",
     "text": [
      "\n",
      "Logging initialized using configuration in jar:file:/usr/local/apache-hive-1.1.0-bin/lib/hive-common-1.1.0.jar!/hive-log4j.properties\n",
      "OK\n",
      "Time taken: 1.12 seconds\n",
      "OK\n",
      "Time taken: 1.671 seconds\n",
      "OK\n",
      "Time taken: 0.195 seconds\n",
      "OK\n",
      "Time taken: 0.046 seconds\n",
      "OK\n",
      "Time taken: 0.02 seconds\n",
      "OK\n",
      "Time taken: 0.018 seconds\n",
      "OK\n",
      "Time taken: 0.016 seconds\n",
      "Query ID = jovyan_20180701205858_ea5a8679-a972-4ef0-9c09-68f68d1e73fe\n",
      "Total jobs = 1\n",
      "Launching Job 1 out of 1\n",
      "Number of reduce tasks not specified. Estimated from input data size: 1\n",
      "In order to change the average load for a reducer (in bytes):\n",
      "  set hive.exec.reducers.bytes.per.reducer=<number>\n",
      "In order to limit the maximum number of reducers:\n",
      "  set hive.exec.reducers.max=<number>\n",
      "In order to set a constant number of reducers:\n",
      "  set mapreduce.job.reduces=<number>\n",
      "Starting Job = job_1530461112798_0088, Tracking URL = http://7f802f72479b:8088/proxy/application_1530461112798_0088/\n",
      "Kill Command = /opt/hadoop/bin/hadoop job  -kill job_1530461112798_0088\n",
      "Hadoop job information for Stage-1: number of mappers: 1; number of reducers: 1\n",
      "2018-07-01 20:59:13,990 Stage-1 map = 0%,  reduce = 0%\n",
      "2018-07-01 20:59:25,158 Stage-1 map = 100%,  reduce = 0%, Cumulative CPU 11.86 sec\n",
      "2018-07-01 20:59:34,996 Stage-1 map = 100%,  reduce = 100%, Cumulative CPU 20.81 sec\n",
      "MapReduce Total cumulative CPU time: 20 seconds 810 msec\n",
      "Ended Job = job_1530461112798_0088\n",
      "Moving data to: hdfs://localhost:9000/tmp/mydir/jovyan/16cb5089-316b-491a-a549-4af6d1ca8c8d/_tmp_space.db/12944a16-6308-41a7-8307-7f62945ef6b1\n",
      "Table joyvan.tmp1 stats: [numFiles=1, numRows=53005, totalSize=962717, rawDataSize=909712]\n",
      "MapReduce Jobs Launched: \n",
      "Stage-Stage-1: Map: 1  Reduce: 1   Cumulative CPU: 20.81 sec   HDFS Read: 4444314 HDFS Write: 962791 SUCCESS\n",
      "Total MapReduce CPU Time Spent: 20 seconds 810 msec\n",
      "OK\n",
      "Time taken: 40.03 seconds\n",
      "Query ID = jovyan_20180701205959_ff92022b-0d88-4cb7-9654-9f36a49f18c1\n",
      "Total jobs = 1\n",
      "Launching Job 1 out of 1\n",
      "Number of reduce tasks not specified. Estimated from input data size: 1\n",
      "In order to change the average load for a reducer (in bytes):\n",
      "  set hive.exec.reducers.bytes.per.reducer=<number>\n",
      "In order to limit the maximum number of reducers:\n",
      "  set hive.exec.reducers.max=<number>\n",
      "In order to set a constant number of reducers:\n",
      "  set mapreduce.job.reduces=<number>\n",
      "Starting Job = job_1530461112798_0089, Tracking URL = http://7f802f72479b:8088/proxy/application_1530461112798_0089/\n",
      "Kill Command = /opt/hadoop/bin/hadoop job  -kill job_1530461112798_0089\n",
      "Hadoop job information for Stage-1: number of mappers: 1; number of reducers: 1\n",
      "2018-07-01 20:59:52,793 Stage-1 map = 0%,  reduce = 0%\n",
      "2018-07-01 21:00:01,374 Stage-1 map = 100%,  reduce = 0%, Cumulative CPU 5.94 sec\n",
      "2018-07-01 21:00:09,980 Stage-1 map = 100%,  reduce = 100%, Cumulative CPU 11.98 sec\n",
      "MapReduce Total cumulative CPU time: 11 seconds 980 msec\n",
      "Ended Job = job_1530461112798_0089\n",
      "Moving data to: hdfs://localhost:9000/user/jovyan/data_2009\n",
      "Table joyvan.data_2009 stats: [numFiles=1, numRows=2369, totalSize=50558, rawDataSize=48189]\n",
      "MapReduce Jobs Launched: \n",
      "Stage-Stage-1: Map: 1  Reduce: 1   Cumulative CPU: 11.98 sec   HDFS Read: 971145 HDFS Write: 50635 SUCCESS\n",
      "Total MapReduce CPU Time Spent: 11 seconds 980 msec\n",
      "OK\n",
      "Time taken: 34.11 seconds\n",
      "Query ID = jovyan_20180701210000_ed903528-d06d-4307-9bbc-f7d6f57b19c5\n",
      "Total jobs = 1\n",
      "Launching Job 1 out of 1\n",
      "Number of reduce tasks not specified. Estimated from input data size: 1\n",
      "In order to change the average load for a reducer (in bytes):\n",
      "  set hive.exec.reducers.bytes.per.reducer=<number>\n",
      "In order to limit the maximum number of reducers:\n",
      "  set hive.exec.reducers.max=<number>\n",
      "In order to set a constant number of reducers:\n",
      "  set mapreduce.job.reduces=<number>\n",
      "Starting Job = job_1530461112798_0090, Tracking URL = http://7f802f72479b:8088/proxy/application_1530461112798_0090/\n",
      "Kill Command = /opt/hadoop/bin/hadoop job  -kill job_1530461112798_0090\n",
      "Hadoop job information for Stage-1: number of mappers: 1; number of reducers: 1\n",
      "2018-07-01 21:00:26,870 Stage-1 map = 0%,  reduce = 0%\n",
      "2018-07-01 21:00:36,528 Stage-1 map = 100%,  reduce = 0%, Cumulative CPU 6.73 sec\n",
      "2018-07-01 21:00:46,089 Stage-1 map = 100%,  reduce = 100%, Cumulative CPU 14.2 sec\n",
      "MapReduce Total cumulative CPU time: 14 seconds 200 msec\n",
      "Ended Job = job_1530461112798_0090\n",
      "Moving data to: hdfs://localhost:9000/user/jovyan/data_2016\n",
      "Table joyvan.data_2016 stats: [numFiles=1, numRows=9548, totalSize=222842, rawDataSize=213294]\n",
      "MapReduce Jobs Launched: \n",
      "Stage-Stage-1: Map: 1  Reduce: 1   Cumulative CPU: 14.2 sec   HDFS Read: 971155 HDFS Write: 222920 SUCCESS\n",
      "Total MapReduce CPU Time Spent: 14 seconds 200 msec\n",
      "OK\n",
      "Time taken: 36.917 seconds\n"
     ]
    }
   ],
   "source": [
    "! hive -S -f table-creater.hql"
   ]
  },
  {
   "cell_type": "markdown",
   "metadata": {},
   "source": [
    "## Query"
   ]
  },
  {
   "cell_type": "code",
   "execution_count": 72,
   "metadata": {},
   "outputs": [
    {
     "name": "stdout",
     "output_type": "stream",
     "text": [
      "Overwriting query_final.hql\n"
     ]
    }
   ],
   "source": [
    "%%writefile query_final.hql\n",
    "\n",
    "USE joyvan;\n",
    "SELECT a.Tag, a.rank, b.rank, a.popu, b.popu FROM data_2016 a join data_2009 b on a.Tag = b.Tag order by a.popu DESC limit 10;"
   ]
  },
  {
   "cell_type": "code",
   "execution_count": 73,
   "metadata": {},
   "outputs": [
    {
     "name": "stdout",
     "output_type": "stream",
     "text": [
      "\n",
      "Logging initialized using configuration in jar:file:/usr/local/apache-hive-1.1.0-bin/lib/hive-common-1.1.0.jar!/hive-log4j.properties\n",
      "OK\n",
      "Time taken: 1.102 seconds\n",
      "Query ID = jovyan_20180701200909_88c0133f-f9a9-47fd-b3ac-2a8255a6dd80\n",
      "Total jobs = 1\n",
      "Execution log at: /tmp/jovyan/jovyan_20180701200909_88c0133f-f9a9-47fd-b3ac-2a8255a6dd80.log\n",
      "2018-07-01 08:10:06\tStarting to launch local task to process map join;\tmaximum memory = 477626368\n",
      "2018-07-01 08:10:07\tDump the side-table for tag: 1 with group count: 2369 into file: file:/tmp/jovyan/2301f23b-fa44-4562-a5ea-848dd636804c/hive_2018-07-01_20-09-57_683_1475579755338605567-1/-local-10004/HashTable-Stage-2/MapJoin-mapfile01--.hashtable\n",
      "2018-07-01 08:10:08\tUploaded 1 File to: file:/tmp/jovyan/2301f23b-fa44-4562-a5ea-848dd636804c/hive_2018-07-01_20-09-57_683_1475579755338605567-1/-local-10004/HashTable-Stage-2/MapJoin-mapfile01--.hashtable (76823 bytes)\n",
      "2018-07-01 08:10:08\tEnd of local task; Time Taken: 2.073 sec.\n",
      "Execution completed successfully\n",
      "MapredLocal task succeeded\n",
      "Launching Job 1 out of 1\n",
      "Number of reduce tasks determined at compile time: 1\n",
      "In order to change the average load for a reducer (in bytes):\n",
      "  set hive.exec.reducers.bytes.per.reducer=<number>\n",
      "In order to limit the maximum number of reducers:\n",
      "  set hive.exec.reducers.max=<number>\n",
      "In order to set a constant number of reducers:\n",
      "  set mapreduce.job.reduces=<number>\n",
      "Starting Job = job_1530461112798_0082, Tracking URL = http://7f802f72479b:8088/proxy/application_1530461112798_0082/\n",
      "Kill Command = /opt/hadoop/bin/hadoop job  -kill job_1530461112798_0082\n",
      "Hadoop job information for Stage-2: number of mappers: 1; number of reducers: 1\n",
      "2018-07-01 20:10:21,989 Stage-2 map = 0%,  reduce = 0%\n",
      "2018-07-01 20:10:30,788 Stage-2 map = 100%,  reduce = 0%, Cumulative CPU 5.19 sec\n",
      "2018-07-01 20:10:40,511 Stage-2 map = 100%,  reduce = 100%, Cumulative CPU 8.94 sec\n",
      "MapReduce Total cumulative CPU time: 8 seconds 940 msec\n",
      "Ended Job = job_1530461112798_0082\n",
      "MapReduce Jobs Launched: \n",
      "Stage-Stage-2: Map: 1  Reduce: 1   Cumulative CPU: 8.94 sec   HDFS Read: 186234 HDFS Write: 188 SUCCESS\n",
      "Total MapReduce CPU Time Spent: 8 seconds 940 msec\n",
      "OK\n",
      "javascript\t1\t5\t2771\t192\n",
      "java\t2\t2\t2033\t243\n",
      "android\t3\t52\t1809\t25\n",
      "php\t4\t3\t1673\t215\n",
      "python\t5\t11\t1585\t108\n",
      "c#\t6\t1\t1519\t423\n",
      "html\t7\t14\t1212\t84\n",
      "jquery\t8\t8\t1167\t141\n",
      "ios\t9\t186\t914\t7\n",
      "css\t10\t20\t801\t59\n",
      "Time taken: 44.013 seconds, Fetched: 10 row(s)\n"
     ]
    }
   ],
   "source": [
    "! hive -f query_final.hql"
   ]
  }
 ],
 "metadata": {
  "kernelspec": {
   "display_name": "Python 3",
   "language": "python",
   "name": "python3"
  },
  "language_info": {
   "codemirror_mode": {
    "name": "ipython",
    "version": 3
   },
   "file_extension": ".py",
   "mimetype": "text/x-python",
   "name": "python",
   "nbconvert_exporter": "python",
   "pygments_lexer": "ipython3",
   "version": "3.6.4"
  }
 },
 "nbformat": 4,
 "nbformat_minor": 2
}
